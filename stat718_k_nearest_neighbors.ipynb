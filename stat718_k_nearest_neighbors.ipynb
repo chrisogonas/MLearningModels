{
  "nbformat": 4,
  "nbformat_minor": 0,
  "metadata": {
    "colab": {
      "name": "stat718_k_nearest_neighbors.ipynb",
      "provenance": [],
      "collapsed_sections": [],
      "toc_visible": true,
      "machine_shape": "hm",
      "include_colab_link": true
    },
    "kernelspec": {
      "name": "python3",
      "display_name": "Python 3"
    }
  },
  "cells": [
    {
      "cell_type": "markdown",
      "metadata": {
        "id": "view-in-github",
        "colab_type": "text"
      },
      "source": [
        "<a href=\"https://colab.research.google.com/github/chrisogonas/MLearningModels/blob/main/stat718_k_nearest_neighbors.ipynb\" target=\"_parent\"><img src=\"https://colab.research.google.com/assets/colab-badge.svg\" alt=\"Open In Colab\"/></a>"
      ]
    },
    {
      "cell_type": "markdown",
      "metadata": {
        "id": "0MRC0e0KhQ0S"
      },
      "source": [
        "# K-Nearest Neighbors (K-NN)"
      ]
    },
    {
      "cell_type": "markdown",
      "metadata": {
        "id": "LWd1UlMnhT2s"
      },
      "source": [
        "## Importing the libraries"
      ]
    },
    {
      "cell_type": "code",
      "metadata": {
        "id": "YvGPUQaHhXfL"
      },
      "source": [
        "import numpy as np\n",
        "import matplotlib.pyplot as plt\n",
        "import pandas as pd\n",
        "%matplotlib inline"
      ],
      "execution_count": 1,
      "outputs": []
    },
    {
      "cell_type": "markdown",
      "metadata": {
        "id": "K1VMqkGvhc3-"
      },
      "source": [
        "## Importing the dataset"
      ]
    },
    {
      "cell_type": "code",
      "metadata": {
        "id": "M52QDmyzhh9s"
      },
      "source": [
        "dataset = pd.read_csv('/content/sample_data/mydata/PimaIndiansDiabetes2.csv')\n",
        "X = dataset.iloc[:, 2:].values\n",
        "y = dataset.iloc[:, 1].values"
      ],
      "execution_count": 2,
      "outputs": []
    },
    {
      "cell_type": "markdown",
      "metadata": {
        "id": "YvxIPVyMhmKp"
      },
      "source": [
        "## Splitting the dataset into the Training set and Test set"
      ]
    },
    {
      "cell_type": "code",
      "metadata": {
        "id": "AVzJWAXIhxoC"
      },
      "source": [
        "from sklearn.model_selection import train_test_split\n",
        "X_train, X_test, y_train, y_test = train_test_split(X, y, test_size = 0.25, random_state = 0)"
      ],
      "execution_count": 3,
      "outputs": []
    },
    {
      "cell_type": "code",
      "metadata": {
        "id": "P3nS3-6r1i2B",
        "colab": {
          "base_uri": "https://localhost:8080/"
        },
        "outputId": "33797c9a-24fa-40fb-af3f-1d24d4be3dba"
      },
      "source": [
        "print(X_train)"
      ],
      "execution_count": 4,
      "outputs": [
        {
          "output_type": "stream",
          "text": [
            "[[  1.    128.     48.    ...  40.5     0.613  24.   ]\n",
            " [  3.    158.     70.    ...  35.5     0.344  35.   ]\n",
            " [  1.    128.     98.    ...  32.      1.321  33.   ]\n",
            " ...\n",
            " [  6.    119.     50.    ...  27.1     1.318  33.   ]\n",
            " [  4.    144.     58.    ...  29.5     0.287  37.   ]\n",
            " [  8.    126.     88.    ...  38.5     0.349  49.   ]]\n"
          ],
          "name": "stdout"
        }
      ]
    },
    {
      "cell_type": "code",
      "metadata": {
        "id": "8dpDLojm1mVG",
        "colab": {
          "base_uri": "https://localhost:8080/"
        },
        "outputId": "73188d63-d289-45b7-fd96-fa1872280cb4"
      },
      "source": [
        "print(y_train)"
      ],
      "execution_count": 5,
      "outputs": [
        {
          "output_type": "stream",
          "text": [
            "[1 1 1 0 0 1 0 0 1 0 1 0 1 1 1 0 0 0 0 0 0 0 1 1 0 0 1 0 1 1 1 0 1 1 0 0 0\n",
            " 0 1 1 0 0 0 1 0 0 1 0 1 0 0 1 0 1 0 0 0 0 0 0 1 0 0 0 0 0 1 0 0 1 0 1 0 0\n",
            " 0 1 0 0 0 0 1 0 0 0 1 0 0 0 1 1 0 1 0 0 0 0 0 0 0 0 0 1 1 0 1 0 0 0 1 0 0\n",
            " 0 0 0 0 0 0 1 0 0 1 0 1 1 0 0 0 0 0 1 0 1 0 0 0 1 0 1 0 0 0 0 0 0 0 1 1 1\n",
            " 1 1 0 0 0 1 0 0 0 1 1 0 0 1 1 0 1 1 1 1 0 0 0 1 1 1 0 1 0 0 1 0 0 0 1 0 0\n",
            " 1 0 0 0 1 0 0 0 1 0 0 0 1 0 1 1 0 1 0 1 0 1 0 0 0 0 0 0 0 0 0 0 0 0 0 0 0\n",
            " 0 0 1 1 1 0 0 0 1 0 0 0 0 0 0 0 0 1 0 0 0 0 1 1 0 0 0 1 0 0 0 0 1 1 1 0 0\n",
            " 0 1 0 0 1 0 1 0 1 0 1 0 1 0 0 0 0 0 0 1 0 0 0 1 1 1 0 0 0 0 0 0 1 0 0]\n"
          ],
          "name": "stdout"
        }
      ]
    },
    {
      "cell_type": "code",
      "metadata": {
        "id": "qbb7i0DH1qui"
      },
      "source": [
        "print(X_test)"
      ],
      "execution_count": null,
      "outputs": []
    },
    {
      "cell_type": "code",
      "metadata": {
        "id": "kj1hnFAR1s5w",
        "colab": {
          "base_uri": "https://localhost:8080/"
        },
        "outputId": "75ef3b08-d4a8-4d97-9eb0-bca4a74b5bdf"
      },
      "source": [
        "print(y_test)"
      ],
      "execution_count": 7,
      "outputs": [
        {
          "output_type": "stream",
          "text": [
            "[1 1 0 0 0 0 0 0 1 0 0 1 0 1 0 0 0 0 0 0 1 0 0 0 0 1 0 0 0 0 1 0 0 1 0 1 0\n",
            " 1 0 1 1 0 1 0 0 0 0 0 0 1 1 1 0 0 1 0 0 0 1 1 0 0 1 1 0 0 0 1 0 0 0 1 0 0\n",
            " 0 0 1 0 0 1 1 0 0 0 1 0 0 0 1 0 1 0 0 1 0 0 1 1]\n"
          ],
          "name": "stdout"
        }
      ]
    },
    {
      "cell_type": "markdown",
      "metadata": {
        "id": "kW3c7UYih0hT"
      },
      "source": [
        "## Feature Scaling"
      ]
    },
    {
      "cell_type": "code",
      "metadata": {
        "id": "9fQlDPKCh8sc"
      },
      "source": [
        "from sklearn.preprocessing import StandardScaler\n",
        "sc = StandardScaler()\n",
        "X_train = sc.fit_transform(X_train)\n",
        "X_test = sc.transform(X_test)"
      ],
      "execution_count": 8,
      "outputs": []
    },
    {
      "cell_type": "code",
      "metadata": {
        "id": "syrnD1Op2BSR",
        "colab": {
          "base_uri": "https://localhost:8080/"
        },
        "outputId": "991ebee2-ff0b-4fc7-f6da-9404b6f5be5a"
      },
      "source": [
        "print(X_train)"
      ],
      "execution_count": 9,
      "outputs": [
        {
          "output_type": "stream",
          "text": [
            "[[-0.74336231  0.13126715 -1.91904292 ...  1.00907749  0.24568836\n",
            "  -0.67204882]\n",
            " [-0.09097867  1.08731695 -0.07141422 ...  0.31234479 -0.51438478\n",
            "   0.40496103]\n",
            " [-0.74336231  0.13126715  2.28011322 ... -0.17536809  2.24617826\n",
            "   0.20914106]\n",
            " ...\n",
            " [ 0.88759679 -0.15554778 -1.75107668 ... -0.85816614  2.23770161\n",
            "   0.20914106]\n",
            " [ 0.23521315  0.64116038 -1.07921169 ... -0.52373444 -0.67544117\n",
            "   0.600781  ]\n",
            " [ 1.53998043  0.0675305   1.44028199 ...  0.73038441 -0.50025702\n",
            "   1.77570083]]\n"
          ],
          "name": "stdout"
        }
      ]
    },
    {
      "cell_type": "code",
      "metadata": {
        "id": "JUd6iBRp2C3L"
      },
      "source": [
        "print(X_test)"
      ],
      "execution_count": null,
      "outputs": []
    },
    {
      "cell_type": "markdown",
      "metadata": {
        "id": "bb6jCOCQiAmP"
      },
      "source": [
        "## Training the K-NN model on the Training set"
      ]
    },
    {
      "cell_type": "code",
      "metadata": {
        "id": "e0pFVAmciHQs",
        "colab": {
          "base_uri": "https://localhost:8080/"
        },
        "outputId": "c92d68e5-2a2e-4dc1-c0ff-141883804f4a"
      },
      "source": [
        "from sklearn.neighbors import KNeighborsClassifier\n",
        "classifier = KNeighborsClassifier(n_neighbors = 5, metric = 'minkowski', p = 2)\n",
        "classifier.fit(X_train, y_train)"
      ],
      "execution_count": 11,
      "outputs": [
        {
          "output_type": "execute_result",
          "data": {
            "text/plain": [
              "KNeighborsClassifier(algorithm='auto', leaf_size=30, metric='minkowski',\n",
              "                     metric_params=None, n_jobs=None, n_neighbors=5, p=2,\n",
              "                     weights='uniform')"
            ]
          },
          "metadata": {
            "tags": []
          },
          "execution_count": 11
        }
      ]
    },
    {
      "cell_type": "markdown",
      "metadata": {
        "id": "yyxW5b395mR2"
      },
      "source": [
        "## Predicting a new result"
      ]
    },
    {
      "cell_type": "code",
      "metadata": {
        "id": "f8YOXsQy58rP",
        "colab": {
          "base_uri": "https://localhost:8080/"
        },
        "outputId": "ee3dc928-04d6-4d5d-e724-129d4ac3fb3b"
      },
      "source": [
        "print(classifier.predict(sc.transform([[7,187,68,39,304,37.7,0.254,41]])))\r\n",
        "print(classifier.predict(sc.transform([[1,95,66,13,38,19.6,0.334,25]])))"
      ],
      "execution_count": 12,
      "outputs": [
        {
          "output_type": "stream",
          "text": [
            "[1]\n",
            "[0]\n"
          ],
          "name": "stdout"
        }
      ]
    },
    {
      "cell_type": "markdown",
      "metadata": {
        "id": "vKYVQH-l5NpE"
      },
      "source": [
        "## Predicting the Test set results"
      ]
    },
    {
      "cell_type": "code",
      "metadata": {
        "id": "p6VMTb2O4hwM"
      },
      "source": [
        "y_pred = classifier.predict(X_test)\n",
        "print(np.concatenate((y_pred.reshape(len(y_pred),1), y_test.reshape(len(y_test),1)),1))"
      ],
      "execution_count": null,
      "outputs": []
    },
    {
      "cell_type": "markdown",
      "metadata": {
        "id": "h4Hwj34ziWQW"
      },
      "source": [
        "## Making the Confusion Matrix"
      ]
    },
    {
      "cell_type": "code",
      "metadata": {
        "id": "D6bpZwUiiXic",
        "colab": {
          "base_uri": "https://localhost:8080/"
        },
        "outputId": "f52df6c9-0d3d-44a9-867b-48a72ff06c0a"
      },
      "source": [
        "from sklearn.metrics import confusion_matrix, accuracy_score\n",
        "cm = confusion_matrix(y_test, y_pred)\n",
        "print(cm)\n",
        "accur = accuracy_score(y_test, y_pred)"
      ],
      "execution_count": 14,
      "outputs": [
        {
          "output_type": "stream",
          "text": [
            "[[59  6]\n",
            " [13 20]]\n"
          ],
          "name": "stdout"
        }
      ]
    },
    {
      "cell_type": "code",
      "metadata": {
        "colab": {
          "base_uri": "https://localhost:8080/"
        },
        "id": "MWTEOFduFz6q",
        "outputId": "4c7407e6-bb1e-4fb2-9bc5-d49b65dec11f"
      },
      "source": [
        "print('Accuracy : ', round(accur * 100,2), '%')\r\n",
        "sensitivity1 = cm[0,0]/(cm[0,0]+cm[0,1])\r\n",
        "print('Sensitivity : ', sensitivity1 )\r\n",
        "\r\n",
        "specificity1 = cm[1,1]/(cm[1,0]+cm[1,1])\r\n",
        "print('Specificity : ', specificity1)"
      ],
      "execution_count": 15,
      "outputs": [
        {
          "output_type": "stream",
          "text": [
            "Accuracy :  80.61 %\n",
            "Sensitivity :  0.9076923076923077\n",
            "Specificity :  0.6060606060606061\n"
          ],
          "name": "stdout"
        }
      ]
    },
    {
      "cell_type": "markdown",
      "metadata": {
        "id": "BPjre8fwF45y"
      },
      "source": [
        "### Compute Area Under the Receiver Operating Characteristic Curve (ROC AUC) from prediction scores"
      ]
    },
    {
      "cell_type": "code",
      "metadata": {
        "id": "cU8kWip9F6BS"
      },
      "source": [
        "# visualize the plots use matplotlib and import roc_curve,auc from sklearn.metrics \r\n",
        "from sklearn.metrics import roc_curve, auc\r\n",
        "from sklearn.metrics import roc_curve\r\n",
        "from sklearn.metrics import roc_auc_score\r\n",
        "from sklearn.metrics import matthews_corrcoef\r\n",
        "\r\n",
        "# actual = X_train[tuple('diabetis_binary')]\r\n",
        "# false_positive_rate, true_positive_rate, thresholds = roc_curve(actual, predicted_values1)\r\n",
        "# plt.title('Receiver Operating Characteristic')\r\n",
        "# plt.plot(false_positive_rate, true_positive_rate)\r\n",
        "# plt.plot([0,1],[0,1],'r--')\r\n",
        "# plt.xlim([-0.1,1.2])\r\n",
        "# plt.ylim([-0.1,1.2])\r\n",
        "# plt.ylabel('True Positive Rate(Sensitivity)')\r\n",
        "# plt.xlabel('False Positive Rate(Specificity)')\r\n",
        "# plt.show()\r\n"
      ],
      "execution_count": 16,
      "outputs": []
    },
    {
      "cell_type": "code",
      "metadata": {
        "colab": {
          "base_uri": "https://localhost:8080/"
        },
        "id": "q-ee4Z0rtfct",
        "outputId": "38b5b151-ff31-41b4-8890-87d4425658e2"
      },
      "source": [
        "# Compute Area Under the Receiver Operating Characteristic Curve (ROC AUC) from prediction scores\r\n",
        "y_pred_proba = classifier.predict_proba(X_test)\r\n",
        "print(roc_auc_score(y_test, y_pred_proba[:,1]))\r\n",
        "print(\"Roc AUC:\", roc_auc_score(y_test, classifier.predict_proba(X_test)[:,1],average='macro'))"
      ],
      "execution_count": 18,
      "outputs": [
        {
          "output_type": "stream",
          "text": [
            "0.8603729603729604\n",
            "Roc AUC: 0.8603729603729604\n"
          ],
          "name": "stdout"
        }
      ]
    },
    {
      "cell_type": "markdown",
      "metadata": {
        "id": "MRHsGjvuF-Jp"
      },
      "source": [
        "### Matthews correlation coefficient"
      ]
    },
    {
      "cell_type": "code",
      "metadata": {
        "colab": {
          "base_uri": "https://localhost:8080/"
        },
        "id": "IK3C3-1HF_Ix",
        "outputId": "a902c28d-d7c0-4213-c91e-ef4200ce3080"
      },
      "source": [
        "# matthews_corrcoef(y_true, y_pred)\r\n",
        "matthews_corrcoef(y_pred.reshape(len(y_test),1), y_pred.reshape(len(y_pred),1))"
      ],
      "execution_count": 19,
      "outputs": [
        {
          "output_type": "execute_result",
          "data": {
            "text/plain": [
              "1.0"
            ]
          },
          "metadata": {
            "tags": []
          },
          "execution_count": 19
        }
      ]
    },
    {
      "cell_type": "markdown",
      "metadata": {
        "id": "6OMC_P0diaoD"
      },
      "source": [
        "## Visualising the Training set results"
      ]
    },
    {
      "cell_type": "code",
      "metadata": {
        "id": "_NOjKvZRid5l"
      },
      "source": [
        ""
      ],
      "execution_count": null,
      "outputs": []
    },
    {
      "cell_type": "markdown",
      "metadata": {
        "id": "SZ-j28aPihZx"
      },
      "source": [
        "## Visualising the Test set results"
      ]
    },
    {
      "cell_type": "code",
      "metadata": {
        "id": "qeTjz2vDilAC"
      },
      "source": [
        ""
      ],
      "execution_count": null,
      "outputs": []
    }
  ]
}